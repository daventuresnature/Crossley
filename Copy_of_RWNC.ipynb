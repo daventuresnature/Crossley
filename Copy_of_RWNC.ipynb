{
  "nbformat": 4,
  "nbformat_minor": 0,
  "metadata": {
    "colab": {
      "provenance": []
    },
    "kernelspec": {
      "name": "python3",
      "display_name": "Python 3"
    },
    "language_info": {
      "name": "python"
    },
    "widgets": {
      "application/vnd.jupyter.widget-state+json": {
        "fae1db3f026744d781904c19514bcd3a": {
          "model_module": "@jupyter-widgets/output",
          "model_name": "OutputModel",
          "model_module_version": "1.0.0",
          "state": {
            "_dom_classes": [],
            "_model_module": "@jupyter-widgets/output",
            "_model_module_version": "1.0.0",
            "_model_name": "OutputModel",
            "_view_count": null,
            "_view_module": "@jupyter-widgets/output",
            "_view_module_version": "1.0.0",
            "_view_name": "OutputView",
            "layout": "IPY_MODEL_56d6c904fbae4ebcba91b43cd061226e",
            "msg_id": "",
            "outputs": [
              {
                "output_type": "display_data",
                "data": {
                  "text/plain": "Image(value=b'GIF89a\\x1e\\x02\\x00\\x03\\xf7\\x1f\\x00\\x00\\x00\\x00$\\x00\\x00H\\x00\\x00l\\x00\\x00\\x90\\x00\\x00\\xb4\\x00\\x0…",
                  "application/vnd.jupyter.widget-view+json": {
                    "version_major": 2,
                    "version_minor": 0,
                    "model_id": "12a10dfcea0146e8ae448786d5e50f87"
                  }
                },
                "metadata": {
                  "application/vnd.jupyter.widget-view+json": {
                    "colab": {
                      "custom_widget_manager": {
                        "url": "https://ssl.gstatic.com/colaboratory-static/widgets/colab-cdn-widget-manager/b3e629b1971e1542/manager.min.js"
                      }
                    }
                  }
                }
              }
            ]
          }
        },
        "56d6c904fbae4ebcba91b43cd061226e": {
          "model_module": "@jupyter-widgets/base",
          "model_name": "LayoutModel",
          "model_module_version": "1.2.0",
          "state": {
            "_model_module": "@jupyter-widgets/base",
            "_model_module_version": "1.2.0",
            "_model_name": "LayoutModel",
            "_view_count": null,
            "_view_module": "@jupyter-widgets/base",
            "_view_module_version": "1.2.0",
            "_view_name": "LayoutView",
            "align_content": null,
            "align_items": null,
            "align_self": null,
            "border": null,
            "bottom": null,
            "display": null,
            "flex": null,
            "flex_flow": null,
            "grid_area": null,
            "grid_auto_columns": null,
            "grid_auto_flow": null,
            "grid_auto_rows": null,
            "grid_column": null,
            "grid_gap": null,
            "grid_row": null,
            "grid_template_areas": null,
            "grid_template_columns": null,
            "grid_template_rows": null,
            "height": null,
            "justify_content": null,
            "justify_items": null,
            "left": null,
            "margin": null,
            "max_height": null,
            "max_width": null,
            "min_height": null,
            "min_width": null,
            "object_fit": null,
            "object_position": null,
            "order": null,
            "overflow": null,
            "overflow_x": null,
            "overflow_y": null,
            "padding": null,
            "right": null,
            "top": null,
            "visibility": null,
            "width": null
          }
        },
        "12a10dfcea0146e8ae448786d5e50f87": {
          "model_module": "@jupyter-widgets/controls",
          "model_name": "ImageModel",
          "model_module_version": "1.5.0",
          "state": {
            "_dom_classes": [],
            "_model_module": "@jupyter-widgets/controls",
            "_model_module_version": "1.5.0",
            "_model_name": "ImageModel",
            "_view_count": null,
            "_view_module": "@jupyter-widgets/controls",
            "_view_module_version": "1.5.0",
            "_view_name": "ImageView",
            "format": "png",
            "height": "",
            "layout": "IPY_MODEL_30dd15325379463bafdccd8e740ee31b",
            "width": ""
          }
        },
        "30dd15325379463bafdccd8e740ee31b": {
          "model_module": "@jupyter-widgets/base",
          "model_name": "LayoutModel",
          "model_module_version": "1.2.0",
          "state": {
            "_model_module": "@jupyter-widgets/base",
            "_model_module_version": "1.2.0",
            "_model_name": "LayoutModel",
            "_view_count": null,
            "_view_module": "@jupyter-widgets/base",
            "_view_module_version": "1.2.0",
            "_view_name": "LayoutView",
            "align_content": null,
            "align_items": null,
            "align_self": null,
            "border": null,
            "bottom": null,
            "display": null,
            "flex": null,
            "flex_flow": null,
            "grid_area": null,
            "grid_auto_columns": null,
            "grid_auto_flow": null,
            "grid_auto_rows": null,
            "grid_column": null,
            "grid_gap": null,
            "grid_row": null,
            "grid_template_areas": null,
            "grid_template_columns": null,
            "grid_template_rows": null,
            "height": null,
            "justify_content": null,
            "justify_items": null,
            "left": null,
            "margin": null,
            "max_height": null,
            "max_width": null,
            "min_height": null,
            "min_width": null,
            "object_fit": null,
            "object_position": null,
            "order": null,
            "overflow": null,
            "overflow_x": null,
            "overflow_y": null,
            "padding": null,
            "right": null,
            "top": null,
            "visibility": null,
            "width": null
          }
        }
      }
    }
  },
  "cells": [
    {
      "cell_type": "markdown",
      "source": [
        "# Snippet 1\n",
        "What: \n",
        "1.   We can install packages using the !pip. This needs to be done \n",
        "everytime you use the NB because it installs the package to the cloud and not your PC. Run the cell by clicking the run arrow located in the [ ]. Note Colab even lets you use Emoji's!!! ☝\n",
        "Yes, I'm a millenial...\n",
        "2.   once the cell is done running and you have a green check mark. delete the output by clicking the X just under the run button. You have to hover your mouse to see the X.\n",
        "\n",
        "Why:\n",
        "Keeping notes of where and when you accessed snippets, data, etc. will improve your ability to debug if you know where to find metadata!"
      ],
      "metadata": {
        "id": "4kLAqu2c8VtJ"
      }
    },
    {
      "cell_type": "code",
      "execution_count": null,
      "metadata": {
        "id": "SKErkHKcgyKe"
      },
      "outputs": [],
      "source": [
        "!pip install geemap\n"
      ]
    },
    {
      "cell_type": "markdown",
      "source": [
        "# Snippet 2\n",
        "What:\n",
        "1.   we want to access Google Earth Engine (gee) data. We need to first import ee. \n",
        "\n",
        "\n"
      ],
      "metadata": {
        "id": "7Z0wTwRoDkEY"
      }
    },
    {
      "cell_type": "code",
      "source": [
        "import ee"
      ],
      "metadata": {
        "id": "oG-iPgqHiEQ4"
      },
      "execution_count": 5,
      "outputs": []
    },
    {
      "cell_type": "markdown",
      "source": [
        "#snippet 3\n",
        "What:\n",
        "1.   We now need to log into our GEE account.\n",
        "2.   Run the snippet, it will give you a link to log into your GEE account. \n",
        "3. Once you get the authenticate code, copy and paste it into the box, and hit enter.\n",
        "4. below this snippet there is another cell with a video of signing into gee incase you need reference. \n",
        "\n"
      ],
      "metadata": {
        "id": "i9txaswUEEIS"
      }
    },
    {
      "cell_type": "code",
      "source": [
        "# Trigger the authentication flow.\n",
        "ee.Authenticate()\n",
        "\n",
        "# Initialize the library.\n",
        "ee.Initialize()"
      ],
      "metadata": {
        "id": "bSTjiL3_FZNk"
      },
      "execution_count": null,
      "outputs": []
    },
    {
      "cell_type": "code",
      "source": [
        "# run this cell for video on signing into GEE\n",
        "geemap.show_youtube('D0BwrPnWxw0')"
      ],
      "metadata": {
        "id": "KIFmKCBYUjLw"
      },
      "execution_count": null,
      "outputs": []
    },
    {
      "cell_type": "markdown",
      "source": [
        "# Snippet 4\n",
        "What:\n",
        "\n",
        "\n",
        "1.   Line one is our Import, we only need to do this once.\n",
        "2.   Line two we are giving setting a variable for map\n",
        "3.   Creating print the Map to the display\n",
        "4.   Yes, its that EASY!!\n",
        "\n",
        "\n"
      ],
      "metadata": {
        "id": "d-Zg2vUMGzzx"
      }
    },
    {
      "cell_type": "code",
      "source": [
        "import geemap\n",
        "Map = geemap.Map()\n",
        "Map\n",
        "\n"
      ],
      "metadata": {
        "id": "I2tFZKr3irS9"
      },
      "execution_count": null,
      "outputs": []
    },
    {
      "cell_type": "markdown",
      "source": [
        "# Snippet 5\n",
        "#NAIP St Croix Watershed\n",
        "What:\n",
        "\n",
        "\n",
        "1.   In this snippet we are accessing the NAIP imagery of the USGS. \n",
        "2.   Look at how I layed out the script so that it is easy to read. \n",
        "3. Run the snippet and explore the output Map.\n",
        "\n",
        "\n"
      ],
      "metadata": {
        "id": "1yqAvUDUH7Oa"
      }
    },
    {
      "cell_type": "code",
      "source": [
        "Map = geemap.Map()\n",
        "\n",
        "# Functions\n",
        "def clip_bndry(image):\n",
        "  return image.clip(boundary)\n",
        "#--------------------------------------------------\n",
        "\n",
        "# Variables\n",
        "boundary = ee.FeatureCollection(\"projects/ee-dqm5980/assets/StCroixWshed\")\n",
        "#----------------------------------------------------\n",
        "\n",
        "# Filter Data\n",
        "#naip = ee.ImageCollection(\"USDA/NAIP/DOQQ\")\n",
        "dataset = ee.ImageCollection('USDA/NAIP/DOQQ') \\\n",
        "  .filter(ee.Filter.date('2017-01-01', '2018-12-31'))\\\n",
        "  .map(clip_bndry)\n",
        "#----------------------------------------------------\n",
        "\n",
        "# Visualize\n",
        "TrueColor = dataset.select(['R', 'G', 'B'])\n",
        "TrueColorVis = {\n",
        "  'min': 0.0,\n",
        "  'max': 255.0,\n",
        "}\n",
        "#----------------------------------------------------\n",
        "\n",
        "# Add layer to map\n",
        "Map.addLayer(TrueColor, TrueColorVis, 'True Color')\n",
        "\n",
        "# Create Map\n",
        "Map.setCenter(-92.53758, 45.12213, 10)\n",
        "\n",
        "Map"
      ],
      "metadata": {
        "id": "eLfilrdUirFa"
      },
      "execution_count": null,
      "outputs": []
    },
    {
      "cell_type": "markdown",
      "source": [
        "# Snippet 6\n",
        "What:\n",
        "\n",
        "\n",
        "1.   In this snippet we are accessing two different Landcover rasters. One from 2001 and one from 2016 to compare urban development.\n",
        "2.   After running the snippet, use the slider widget to visualize the urban (red) growth around the town of New Richmond.\n",
        "\n"
      ],
      "metadata": {
        "id": "CpiyCqp-tVhI"
      }
    },
    {
      "cell_type": "code",
      "source": [
        "#filter data\n",
        "nlcd_2001 = ee.Image('USGS/NLCD/NLCD2001').select('landcover')\n",
        "nlcd_2016 = ee.Image('USGS/NLCD/NLCD2016').select('landcover')\n",
        "#Visualization parameters\n",
        "left_layer = geemap.ee_tile_layer(nlcd_2001, {}, 'NLCD 2001')\n",
        "right_layer = geemap.ee_tile_layer(nlcd_2016, {}, 'NLCD 2016')\n",
        "#create map\n",
        "Map1 = geemap.Map()\n",
        "Map1.split_map(left_layer, right_layer)\n",
        "Map1.setCenter(-92.536586, 45.123021, 13)\n",
        "Map1.add_legend(builtin_legend='NLCD')\n",
        "Map1\n",
        "#Source\n",
        "# https://developers.google.com/earth-engine/datasets/catalog/USGS_NLCD"
      ],
      "metadata": {
        "id": "m6t3uWQrkNMO"
      },
      "execution_count": null,
      "outputs": []
    },
    {
      "cell_type": "markdown",
      "source": [
        "# Snippets 7-9\n",
        "#Naip Timleapse\n",
        "What:\n",
        "\n",
        "\n",
        "1.   run these three snippets, you should have the hang of it by now.\n",
        "2.  With the ability to access temporal data, we can quickly create a timelapse of our study area.\n",
        "\n"
      ],
      "metadata": {
        "id": "fuAuMTi8wI-H"
      }
    },
    {
      "cell_type": "code",
      "source": [
        "Map2 = geemap.Map()\n",
        "Map2"
      ],
      "metadata": {
        "id": "9zdd5qJc_Ga0"
      },
      "execution_count": null,
      "outputs": []
    },
    {
      "cell_type": "code",
      "source": [
        "region = ee.Geometry.Polygon(\n",
        "    [\n",
        "        [\n",
        "            [-92.63659, 45.02302],\n",
        "            [-92.63659, 45.22302],\n",
        "            [-92.43659, 45.22302],\n",
        "            [-92.43659, 45.02302],\n",
        "            [-92.63659, 45.02302],\n",
        "        ]\n",
        "    ]\n",
        ")"
      ],
      "metadata": {
        "id": "kBwkMycRwIfD"
      },
      "execution_count": 15,
      "outputs": []
    },
    {
      "cell_type": "code",
      "source": [
        "Map2.addLayer(region)\n",
        "Map2.centerObject(region)\n",
        "\n",
        "collection = geemap.naip_timeseries(region, RGBN=True)\n",
        "\n",
        "images = collection.toList(collection.size())\n",
        "\n",
        "dates = geemap.image_dates(collection).getInfo()\n",
        "size = images.size().getInfo()\n",
        "\n",
        "for i in range(size):\n",
        "    image = ee.Image(images.get(i))\n",
        "    Map2.addLayer(image, {'bands': ['R', 'G', 'B']}, dates[i][:4])\n",
        "\n",
        "timelapse = geemap.naip_timelapse(\n",
        "    region, out_gif=\"naip.gif\", bands=['R', 'G', 'B'], frames_per_second=1, mp4=True\n",
        ")\n",
        "geemap.show_image(timelapse)"
      ],
      "metadata": {
        "id": "p2xBthE3-035",
        "colab": {
          "base_uri": "https://localhost:8080/",
          "height": 862,
          "referenced_widgets": [
            "fae1db3f026744d781904c19514bcd3a",
            "56d6c904fbae4ebcba91b43cd061226e",
            "12a10dfcea0146e8ae448786d5e50f87",
            "30dd15325379463bafdccd8e740ee31b"
          ]
        },
        "outputId": "64375083-507a-403c-ba68-bf21884bacbe"
      },
      "execution_count": 16,
      "outputs": [
        {
          "output_type": "stream",
          "name": "stdout",
          "text": [
            "Generating URL...\n",
            "Downloading GIF image from https://earthengine.googleapis.com/v1alpha/projects/earthengine-legacy/videoThumbnails/87e348cbcdb70240beff0a0b250f4a1d-3937bc959bca0530783fb21c0d7909f4:getPixels\n",
            "Please wait ...\n",
            "The GIF image has been saved to: /content/naip.gif\n"
          ]
        },
        {
          "output_type": "display_data",
          "data": {
            "text/plain": [
              "Output()"
            ],
            "application/vnd.jupyter.widget-view+json": {
              "version_major": 2,
              "version_minor": 0,
              "model_id": "fae1db3f026744d781904c19514bcd3a"
            }
          },
          "metadata": {
            "application/vnd.jupyter.widget-view+json": {
              "colab": {
                "custom_widget_manager": {
                  "url": "https://ssl.gstatic.com/colaboratory-static/widgets/colab-cdn-widget-manager/b3e629b1971e1542/manager.min.js"
                }
              }
            }
          }
        }
      ]
    },
    {
      "cell_type": "markdown",
      "source": [
        "# Summary:\n",
        "\n",
        "As shown in this notebook, the ability to access data, filter, and quickly produce an interactive map (or .gif) is a valuable skill in the GIS world. If you plan on continuing your education or carrerr in the GIS world, here are some resources:\n",
        "\n",
        "1. GEE Data:  https://developers.google.com/earth-engine/datasets/catalog/USGS_NLCD\n",
        "2. geemap tutorials and lessons: https://geemap.org/\n",
        "\n",
        "We can also use GEE to perform spatial analysis, save the output to google drive, and bring it into ArcPro. \n",
        "\n",
        "You can now return to the Lesson document."
      ],
      "metadata": {
        "id": "xEBR-HD4R7Xf"
      }
    }
  ]
}